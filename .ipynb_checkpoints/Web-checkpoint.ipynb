{
 "cells": [
  {
   "cell_type": "code",
   "execution_count": 1,
   "id": "a390cba9-e79e-4958-8d77-34eea7540be9",
   "metadata": {},
   "outputs": [],
   "source": [
    "import requests\n",
    "import pandas as pd\n",
    "import selenium.webdriver.firefox.service as FirefoxService\n",
    "\n",
    "from bs4 import BeautifulSoup\n",
    "from selenium.webdriver import FirefoxOptions\n",
    "from selenium import webdriver"
   ]
  },
  {
   "cell_type": "code",
   "execution_count": 3,
   "id": "a90e345c-ed12-4785-a8d9-7ae39b322dbf",
   "metadata": {},
   "outputs": [
    {
     "name": "stdout",
     "output_type": "stream",
     "text": [
      "200\n"
     ]
    }
   ],
   "source": [
    "url = 'https://syarah.com/filters?condition_id=0'\n",
    "page = requests.get(url)\n",
    "print(page.status_code)"
   ]
  },
  {
   "cell_type": "code",
   "execution_count": 5,
   "id": "279221a3-bce6-4acb-b9e9-255b628b0d34",
   "metadata": {},
   "outputs": [],
   "source": [
    "driver = webdriver.Chrome()\n",
    "driver.get(url)\n",
    "soup = BeautifulSoup(driver.page_source, \"html.parser\")\n",
    "driver.quit()"
   ]
  },
  {
   "cell_type": "code",
   "execution_count": 7,
   "id": "2098f2ef-e8f0-4df6-81f1-ca204c7b8724",
   "metadata": {},
   "outputs": [
    {
     "data": {
      "text/plain": [
       "[<h2 class=\"CardBody-module__title interActiveGray\">جيتور X70 لاكجري 2023 </h2>,\n",
       " <h2 class=\"CardBody-module__title interActiveGray\">جيتور X70 لاكجري 2023 </h2>,\n",
       " <h2 class=\"CardBody-module__title interActiveGray\">جيتور X70 لاكجري 2023 </h2>,\n",
       " <h2 class=\"CardBody-module__title interActiveGray\">جيتور X70 لاكجري 2023 </h2>,\n",
       " <h2 class=\"CardBody-module__title interActiveGray\">جيتور X70 لاكجري 2023 </h2>,\n",
       " <h2 class=\"CardBody-module__title interActiveGray\">جيتور X70 لاكجري 2023 </h2>,\n",
       " <h2 class=\"CardBody-module__title interActiveGray\">جيتور داشينج لاكجري 2024 </h2>,\n",
       " <h2 class=\"CardBody-module__title interActiveGray\">جيتور X70 Plus كومفورت 2024 </h2>,\n",
       " <h2 class=\"CardBody-module__title interActiveGray\">جيتور X70 لاكجري 2023 </h2>,\n",
       " <h2 class=\"CardBody-module__title interActiveGray\">جيتور X70 Plus كومفورت 2024 </h2>,\n",
       " <h2 class=\"CardBody-module__title interActiveGray\">هافال جوليان اكنيف بلس 2024 </h2>,\n",
       " <h2 class=\"CardBody-module__title interActiveGray\">هافال H6 بيسيك الإصدار الجديد 2022 </h2>]"
      ]
     },
     "execution_count": 7,
     "metadata": {},
     "output_type": "execute_result"
    }
   ],
   "source": [
    "divs = soup.find_all('h2', {'class':\"CardBody-module__title interActiveGray\"})\n",
    "divs"
   ]
  },
  {
   "cell_type": "code",
   "execution_count": 63,
   "id": "87141280-029d-4f79-a209-334d94e9945f",
   "metadata": {},
   "outputs": [],
   "source": [
    "all_linkes = []"
   ]
  },
  {
   "cell_type": "code",
   "execution_count": 65,
   "id": "ed5de759-9c14-4dde-9a97-21bc3d399749",
   "metadata": {},
   "outputs": [
    {
     "name": "stdout",
     "output_type": "stream",
     "text": [
      "[]\n",
      "[]\n",
      "[]\n",
      "[]\n",
      "[]\n",
      "[]\n",
      "[]\n",
      "[]\n"
     ]
    }
   ],
   "source": [
    "driver = webdriver.Chrome()\n",
    "url = 'https://syarah.com/filters?condition_id=0'\n",
    "\n",
    "#CardHeader-module__cardHead\n",
    "\n",
    "for i in range(1, 9):\n",
    "\n",
    "    # request the page \n",
    "    driver.get(url)\n",
    "\n",
    "    # extract the body and parse it\n",
    "    soup = BeautifulSoup(driver.page_source, \"html.parser\")\n",
    "\n",
    "    # extrace prices and ars names from page\n",
    "    for a in soup.find_all('a', {'class' : 'CardBody-module__CardBody'}, href=True):\n",
    "        all_linkes.append(a['href'])\n",
    "    print(all_)\n",
    "\n",
    "    # store them \n",
    "\n",
    "    # prepare new link\n",
    "    url = f\"https://syarah.com/filters?condition_id=0&page={i}\"\n",
    "driver.quit()"
   ]
  },
  {
   "cell_type": "code",
   "execution_count": 66,
   "id": "d067302e-d205-40de-b732-640eafea5ce0",
   "metadata": {
    "scrolled": true
   },
   "outputs": [
    {
     "data": {
      "text/plain": [
       "['/cardetail/jetour-x70-used-221761#page_number=1&product_position=1&listing_type=filter',\n",
       " '/cardetail/jetour-x70-used-221720#page_number=1&product_position=2&listing_type=filter',\n",
       " '/cardetail/jetour-x70-used-221647#page_number=1&product_position=3&listing_type=filter',\n",
       " '/cardetail/jetour-x70-used-221643#page_number=1&product_position=4&listing_type=filter',\n",
       " '/cardetail/jetour-x70-used-221556#page_number=1&product_position=5&listing_type=filter',\n",
       " '/cardetail/jetour-x70-used-221549#page_number=1&product_position=6&listing_type=filter',\n",
       " '/cardetail/jetour-dashing-used-219908#page_number=1&product_position=7&listing_type=filter',\n",
       " '/cardetail/jetour-x70-plus-used-212488#page_number=1&product_position=8&listing_type=filter',\n",
       " '/cardetail/jetour-x70-used-211231#page_number=1&product_position=9&listing_type=filter',\n",
       " '/cardetail/jetour-x70-plus-used-211192#page_number=1&product_position=10&listing_type=filter',\n",
       " '/cardetail/haval-jolion-used-220056#page_number=1&product_position=11&listing_type=filter',\n",
       " '/cardetail/haval-h6-used-218167#page_number=1&product_position=12&listing_type=filter',\n",
       " '/cardetail/jetour-x70-used-221761#page_number=1&product_position=1&listing_type=filter',\n",
       " '/cardetail/jetour-x70-used-221720#page_number=1&product_position=2&listing_type=filter',\n",
       " '/cardetail/jetour-x70-used-221647#page_number=1&product_position=3&listing_type=filter',\n",
       " '/cardetail/jetour-x70-used-221643#page_number=1&product_position=4&listing_type=filter',\n",
       " '/cardetail/jetour-x70-used-221556#page_number=1&product_position=5&listing_type=filter',\n",
       " '/cardetail/jetour-x70-used-221549#page_number=1&product_position=6&listing_type=filter',\n",
       " '/cardetail/jetour-dashing-used-219908#page_number=1&product_position=7&listing_type=filter',\n",
       " '/cardetail/jetour-x70-plus-used-212488#page_number=1&product_position=8&listing_type=filter',\n",
       " '/cardetail/jetour-x70-used-211231#page_number=1&product_position=9&listing_type=filter',\n",
       " '/cardetail/jetour-x70-plus-used-211192#page_number=1&product_position=10&listing_type=filter',\n",
       " '/cardetail/haval-jolion-used-220056#page_number=1&product_position=11&listing_type=filter',\n",
       " '/cardetail/haval-h6-used-218167#page_number=1&product_position=12&listing_type=filter',\n",
       " '/cardetail/haval-h6-used-218079#page_number=2&product_position=1&listing_type=filter',\n",
       " '/cardetail/haval-jolion-prp-used-217025#page_number=2&product_position=2&listing_type=filter',\n",
       " '/cardetail/haval-jolion-used-214686#page_number=2&product_position=3&listing_type=filter',\n",
       " '/cardetail/haval-h6-used-212140#page_number=2&product_position=4&listing_type=filter',\n",
       " '/cardetail/mg-5-used-221750#page_number=2&product_position=5&listing_type=filter',\n",
       " '/cardetail/mg-5-used-221722#page_number=2&product_position=6&listing_type=filter',\n",
       " '/cardetail/mg-5-used-221515#page_number=2&product_position=7&listing_type=filter',\n",
       " '/cardetail/mg-5-used-221450#page_number=2&product_position=8&listing_type=filter',\n",
       " '/cardetail/mg-5-used-221316#page_number=2&product_position=9&listing_type=filter',\n",
       " '/cardetail/mg-5-used-221288#page_number=2&product_position=10&listing_type=filter',\n",
       " '/cardetail/mg-5-used-221180#page_number=2&product_position=11&listing_type=filter',\n",
       " '/cardetail/mg-5-used-221131#page_number=2&product_position=12&listing_type=filter',\n",
       " '/cardetail/mg-5-used-221126#page_number=3&product_position=1&listing_type=filter',\n",
       " '/cardetail/mg-5-used-221124#page_number=3&product_position=2&listing_type=filter',\n",
       " '/cardetail/mg-5-used-221102#page_number=3&product_position=3&listing_type=filter',\n",
       " '/cardetail/mg-5-used-221065#page_number=3&product_position=4&listing_type=filter',\n",
       " '/cardetail/mg-5-used-221051#page_number=3&product_position=5&listing_type=filter',\n",
       " '/cardetail/mg-5-used-221002#page_number=3&product_position=6&listing_type=filter',\n",
       " '/cardetail/mg-5-used-220595#page_number=3&product_position=7&listing_type=filter',\n",
       " '/cardetail/mg-5-used-220552#page_number=3&product_position=8&listing_type=filter',\n",
       " '/cardetail/mg-5-used-220323#page_number=3&product_position=9&listing_type=filter',\n",
       " '/cardetail/mg-zs-used-220310#page_number=3&product_position=10&listing_type=filter',\n",
       " '/cardetail/mg-5-used-220165#page_number=3&product_position=11&listing_type=filter',\n",
       " '/cardetail/mg-5-used-220144#page_number=3&product_position=12&listing_type=filter',\n",
       " '/cardetail/mg-5-used-220120#page_number=4&product_position=1&listing_type=filter',\n",
       " '/cardetail/mg-5-used-219978#page_number=4&product_position=2&listing_type=filter',\n",
       " '/cardetail/mg-5-used-219747#page_number=4&product_position=3&listing_type=filter',\n",
       " '/cardetail/mg-5-used-219682#page_number=4&product_position=4&listing_type=filter',\n",
       " '/cardetail/mg-zs-used-219582#page_number=4&product_position=5&listing_type=filter',\n",
       " '/cardetail/mg-5-used-219516#page_number=4&product_position=6&listing_type=filter',\n",
       " '/cardetail/mg-5-used-219510#page_number=4&product_position=7&listing_type=filter',\n",
       " '/cardetail/mg-5-used-219206#page_number=4&product_position=8&listing_type=filter',\n",
       " '/cardetail/mg-5-used-219138#page_number=4&product_position=9&listing_type=filter',\n",
       " '/cardetail/mg-5-used-218966#page_number=4&product_position=10&listing_type=filter',\n",
       " '/cardetail/mg-5-used-218837#page_number=4&product_position=11&listing_type=filter',\n",
       " '/cardetail/mg-5-used-218801#page_number=4&product_position=12&listing_type=filter',\n",
       " '/cardetail/mg-5-used-218790#page_number=5&product_position=1&listing_type=filter',\n",
       " '/cardetail/mg-5-used-218768#page_number=5&product_position=2&listing_type=filter',\n",
       " '/cardetail/mg-5-used-218534#page_number=5&product_position=3&listing_type=filter',\n",
       " '/cardetail/mg-5-used-218533#page_number=5&product_position=4&listing_type=filter',\n",
       " '/cardetail/mg-5-used-218531#page_number=5&product_position=5&listing_type=filter',\n",
       " '/cardetail/mg-5-used-218482#page_number=5&product_position=6&listing_type=filter',\n",
       " '/cardetail/mg-5-used-218300#page_number=5&product_position=7&listing_type=filter',\n",
       " '/cardetail/mg-5-used-218188#page_number=5&product_position=8&listing_type=filter',\n",
       " '/cardetail/mg-5-used-218132#page_number=5&product_position=9&listing_type=filter',\n",
       " '/cardetail/mg-5-used-218032#page_number=5&product_position=10&listing_type=filter',\n",
       " '/cardetail/mg-5-used-217905#page_number=5&product_position=11&listing_type=filter',\n",
       " '/cardetail/mg-5-used-217902#page_number=5&product_position=12&listing_type=filter',\n",
       " '/cardetail/mg-5-used-217817#page_number=6&product_position=1&listing_type=filter',\n",
       " '/cardetail/mg-5-used-217735#page_number=6&product_position=2&listing_type=filter',\n",
       " '/cardetail/mg-5-used-217658#page_number=6&product_position=3&listing_type=filter',\n",
       " '/cardetail/mg-5-used-217565#page_number=6&product_position=4&listing_type=filter',\n",
       " '/cardetail/mg-5-used-217563#page_number=6&product_position=5&listing_type=filter',\n",
       " '/cardetail/mg-5-used-217464#page_number=6&product_position=6&listing_type=filter',\n",
       " '/cardetail/mg-5-used-217433#page_number=6&product_position=7&listing_type=filter',\n",
       " '/cardetail/mg-5-used-217427#page_number=6&product_position=8&listing_type=filter',\n",
       " '/cardetail/mg-5-used-217385#page_number=6&product_position=9&listing_type=filter',\n",
       " '/cardetail/mg-5-used-217027#page_number=6&product_position=10&listing_type=filter',\n",
       " '/cardetail/mg-5-used-217015#page_number=6&product_position=11&listing_type=filter',\n",
       " '/cardetail/mg-5-used-216319#page_number=6&product_position=12&listing_type=filter',\n",
       " '/cardetail/mg-hs-used-216206#page_number=7&product_position=1&listing_type=filter',\n",
       " '/cardetail/mg-5-used-216203#page_number=7&product_position=2&listing_type=filter',\n",
       " '/cardetail/mg-5-used-215897#page_number=7&product_position=3&listing_type=filter',\n",
       " '/cardetail/mg-5-used-215631#page_number=7&product_position=4&listing_type=filter',\n",
       " '/cardetail/mg-5-used-215532#page_number=7&product_position=5&listing_type=filter',\n",
       " '/cardetail/mg-5-used-215531#page_number=7&product_position=6&listing_type=filter',\n",
       " '/cardetail/mg-5-used-215442#page_number=7&product_position=7&listing_type=filter',\n",
       " '/cardetail/mg-hs-used-215427#page_number=7&product_position=8&listing_type=filter',\n",
       " '/cardetail/mg-5-used-215250#page_number=7&product_position=9&listing_type=filter',\n",
       " '/cardetail/mg-rx8-used-215223#page_number=7&product_position=10&listing_type=filter',\n",
       " '/cardetail/mg-5-used-215093#page_number=7&product_position=11&listing_type=filter',\n",
       " '/cardetail/mg-5-used-215090#page_number=7&product_position=12&listing_type=filter']"
      ]
     },
     "execution_count": 66,
     "metadata": {},
     "output_type": "execute_result"
    }
   ],
   "source": [
    "all_linkes"
   ]
  },
  {
   "cell_type": "code",
   "execution_count": 67,
   "id": "a998adb1-86a4-4d28-8dfc-9751e034a422",
   "metadata": {},
   "outputs": [],
   "source": [
    "clean_linkes = []\n",
    "for i in all_linkes:\n",
    "    clean_linkes.append(i.split('#')[0])"
   ]
  },
  {
   "cell_type": "code",
   "execution_count": 68,
   "id": "2ab9f55c-edc6-4063-a901-770436cd99f2",
   "metadata": {
    "scrolled": true
   },
   "outputs": [
    {
     "data": {
      "text/plain": [
       "['/cardetail/jetour-x70-used-221761',\n",
       " '/cardetail/jetour-x70-used-221720',\n",
       " '/cardetail/jetour-x70-used-221647',\n",
       " '/cardetail/jetour-x70-used-221643',\n",
       " '/cardetail/jetour-x70-used-221556',\n",
       " '/cardetail/jetour-x70-used-221549',\n",
       " '/cardetail/jetour-dashing-used-219908',\n",
       " '/cardetail/jetour-x70-plus-used-212488',\n",
       " '/cardetail/jetour-x70-used-211231',\n",
       " '/cardetail/jetour-x70-plus-used-211192',\n",
       " '/cardetail/haval-jolion-used-220056',\n",
       " '/cardetail/haval-h6-used-218167',\n",
       " '/cardetail/jetour-x70-used-221761',\n",
       " '/cardetail/jetour-x70-used-221720',\n",
       " '/cardetail/jetour-x70-used-221647',\n",
       " '/cardetail/jetour-x70-used-221643',\n",
       " '/cardetail/jetour-x70-used-221556',\n",
       " '/cardetail/jetour-x70-used-221549',\n",
       " '/cardetail/jetour-dashing-used-219908',\n",
       " '/cardetail/jetour-x70-plus-used-212488',\n",
       " '/cardetail/jetour-x70-used-211231',\n",
       " '/cardetail/jetour-x70-plus-used-211192',\n",
       " '/cardetail/haval-jolion-used-220056',\n",
       " '/cardetail/haval-h6-used-218167',\n",
       " '/cardetail/haval-h6-used-218079',\n",
       " '/cardetail/haval-jolion-prp-used-217025',\n",
       " '/cardetail/haval-jolion-used-214686',\n",
       " '/cardetail/haval-h6-used-212140',\n",
       " '/cardetail/mg-5-used-221750',\n",
       " '/cardetail/mg-5-used-221722',\n",
       " '/cardetail/mg-5-used-221515',\n",
       " '/cardetail/mg-5-used-221450',\n",
       " '/cardetail/mg-5-used-221316',\n",
       " '/cardetail/mg-5-used-221288',\n",
       " '/cardetail/mg-5-used-221180',\n",
       " '/cardetail/mg-5-used-221131',\n",
       " '/cardetail/mg-5-used-221126',\n",
       " '/cardetail/mg-5-used-221124',\n",
       " '/cardetail/mg-5-used-221102',\n",
       " '/cardetail/mg-5-used-221065',\n",
       " '/cardetail/mg-5-used-221051',\n",
       " '/cardetail/mg-5-used-221002',\n",
       " '/cardetail/mg-5-used-220595',\n",
       " '/cardetail/mg-5-used-220552',\n",
       " '/cardetail/mg-5-used-220323',\n",
       " '/cardetail/mg-zs-used-220310',\n",
       " '/cardetail/mg-5-used-220165',\n",
       " '/cardetail/mg-5-used-220144',\n",
       " '/cardetail/mg-5-used-220120',\n",
       " '/cardetail/mg-5-used-219978',\n",
       " '/cardetail/mg-5-used-219747',\n",
       " '/cardetail/mg-5-used-219682',\n",
       " '/cardetail/mg-zs-used-219582',\n",
       " '/cardetail/mg-5-used-219516',\n",
       " '/cardetail/mg-5-used-219510',\n",
       " '/cardetail/mg-5-used-219206',\n",
       " '/cardetail/mg-5-used-219138',\n",
       " '/cardetail/mg-5-used-218966',\n",
       " '/cardetail/mg-5-used-218837',\n",
       " '/cardetail/mg-5-used-218801',\n",
       " '/cardetail/mg-5-used-218790',\n",
       " '/cardetail/mg-5-used-218768',\n",
       " '/cardetail/mg-5-used-218534',\n",
       " '/cardetail/mg-5-used-218533',\n",
       " '/cardetail/mg-5-used-218531',\n",
       " '/cardetail/mg-5-used-218482',\n",
       " '/cardetail/mg-5-used-218300',\n",
       " '/cardetail/mg-5-used-218188',\n",
       " '/cardetail/mg-5-used-218132',\n",
       " '/cardetail/mg-5-used-218032',\n",
       " '/cardetail/mg-5-used-217905',\n",
       " '/cardetail/mg-5-used-217902',\n",
       " '/cardetail/mg-5-used-217817',\n",
       " '/cardetail/mg-5-used-217735',\n",
       " '/cardetail/mg-5-used-217658',\n",
       " '/cardetail/mg-5-used-217565',\n",
       " '/cardetail/mg-5-used-217563',\n",
       " '/cardetail/mg-5-used-217464',\n",
       " '/cardetail/mg-5-used-217433',\n",
       " '/cardetail/mg-5-used-217427',\n",
       " '/cardetail/mg-5-used-217385',\n",
       " '/cardetail/mg-5-used-217027',\n",
       " '/cardetail/mg-5-used-217015',\n",
       " '/cardetail/mg-5-used-216319',\n",
       " '/cardetail/mg-hs-used-216206',\n",
       " '/cardetail/mg-5-used-216203',\n",
       " '/cardetail/mg-5-used-215897',\n",
       " '/cardetail/mg-5-used-215631',\n",
       " '/cardetail/mg-5-used-215532',\n",
       " '/cardetail/mg-5-used-215531',\n",
       " '/cardetail/mg-5-used-215442',\n",
       " '/cardetail/mg-hs-used-215427',\n",
       " '/cardetail/mg-5-used-215250',\n",
       " '/cardetail/mg-rx8-used-215223',\n",
       " '/cardetail/mg-5-used-215093',\n",
       " '/cardetail/mg-5-used-215090']"
      ]
     },
     "execution_count": 68,
     "metadata": {},
     "output_type": "execute_result"
    }
   ],
   "source": [
    "clean_linkes"
   ]
  },
  {
   "cell_type": "code",
   "execution_count": 69,
   "id": "4436c0e7-33c1-434f-b4f1-519a0f5d6d5e",
   "metadata": {
    "scrolled": true
   },
   "outputs": [
    {
     "data": {
      "text/plain": [
       "['/cardetail/jetour-x70-used-221761',\n",
       " '/cardetail/jetour-x70-used-221720',\n",
       " '/cardetail/jetour-x70-used-221647',\n",
       " '/cardetail/jetour-x70-used-221643',\n",
       " '/cardetail/jetour-x70-used-221556',\n",
       " '/cardetail/jetour-x70-used-221549',\n",
       " '/cardetail/jetour-dashing-used-219908',\n",
       " '/cardetail/jetour-x70-plus-used-212488',\n",
       " '/cardetail/jetour-x70-used-211231',\n",
       " '/cardetail/jetour-x70-plus-used-211192',\n",
       " '/cardetail/haval-jolion-used-220056',\n",
       " '/cardetail/haval-h6-used-218167',\n",
       " '/cardetail/jetour-x70-used-221761',\n",
       " '/cardetail/jetour-x70-used-221720',\n",
       " '/cardetail/jetour-x70-used-221647',\n",
       " '/cardetail/jetour-x70-used-221643',\n",
       " '/cardetail/jetour-x70-used-221556',\n",
       " '/cardetail/jetour-x70-used-221549',\n",
       " '/cardetail/jetour-dashing-used-219908',\n",
       " '/cardetail/jetour-x70-plus-used-212488',\n",
       " '/cardetail/jetour-x70-used-211231',\n",
       " '/cardetail/jetour-x70-plus-used-211192',\n",
       " '/cardetail/haval-jolion-used-220056',\n",
       " '/cardetail/haval-h6-used-218167',\n",
       " '/cardetail/haval-h6-used-218079',\n",
       " '/cardetail/haval-jolion-prp-used-217025',\n",
       " '/cardetail/haval-jolion-used-214686',\n",
       " '/cardetail/haval-h6-used-212140',\n",
       " '/cardetail/mg-5-used-221750',\n",
       " '/cardetail/mg-5-used-221722',\n",
       " '/cardetail/mg-5-used-221515',\n",
       " '/cardetail/mg-5-used-221450',\n",
       " '/cardetail/mg-5-used-221316',\n",
       " '/cardetail/mg-5-used-221288',\n",
       " '/cardetail/mg-5-used-221180',\n",
       " '/cardetail/mg-5-used-221131',\n",
       " '/cardetail/mg-5-used-221126',\n",
       " '/cardetail/mg-5-used-221124',\n",
       " '/cardetail/mg-5-used-221102',\n",
       " '/cardetail/mg-5-used-221065',\n",
       " '/cardetail/mg-5-used-221051',\n",
       " '/cardetail/mg-5-used-221002',\n",
       " '/cardetail/mg-5-used-220595',\n",
       " '/cardetail/mg-5-used-220552',\n",
       " '/cardetail/mg-5-used-220323',\n",
       " '/cardetail/mg-zs-used-220310',\n",
       " '/cardetail/mg-5-used-220165',\n",
       " '/cardetail/mg-5-used-220144',\n",
       " '/cardetail/mg-5-used-220120',\n",
       " '/cardetail/mg-5-used-219978',\n",
       " '/cardetail/mg-5-used-219747',\n",
       " '/cardetail/mg-5-used-219682',\n",
       " '/cardetail/mg-zs-used-219582',\n",
       " '/cardetail/mg-5-used-219516',\n",
       " '/cardetail/mg-5-used-219510',\n",
       " '/cardetail/mg-5-used-219206',\n",
       " '/cardetail/mg-5-used-219138',\n",
       " '/cardetail/mg-5-used-218966',\n",
       " '/cardetail/mg-5-used-218837',\n",
       " '/cardetail/mg-5-used-218801',\n",
       " '/cardetail/mg-5-used-218790',\n",
       " '/cardetail/mg-5-used-218768',\n",
       " '/cardetail/mg-5-used-218534',\n",
       " '/cardetail/mg-5-used-218533',\n",
       " '/cardetail/mg-5-used-218531',\n",
       " '/cardetail/mg-5-used-218482',\n",
       " '/cardetail/mg-5-used-218300',\n",
       " '/cardetail/mg-5-used-218188',\n",
       " '/cardetail/mg-5-used-218132',\n",
       " '/cardetail/mg-5-used-218032',\n",
       " '/cardetail/mg-5-used-217905',\n",
       " '/cardetail/mg-5-used-217902',\n",
       " '/cardetail/mg-5-used-217817',\n",
       " '/cardetail/mg-5-used-217735',\n",
       " '/cardetail/mg-5-used-217658',\n",
       " '/cardetail/mg-5-used-217565',\n",
       " '/cardetail/mg-5-used-217563',\n",
       " '/cardetail/mg-5-used-217464',\n",
       " '/cardetail/mg-5-used-217433',\n",
       " '/cardetail/mg-5-used-217427',\n",
       " '/cardetail/mg-5-used-217385',\n",
       " '/cardetail/mg-5-used-217027',\n",
       " '/cardetail/mg-5-used-217015',\n",
       " '/cardetail/mg-5-used-216319',\n",
       " '/cardetail/mg-hs-used-216206',\n",
       " '/cardetail/mg-5-used-216203',\n",
       " '/cardetail/mg-5-used-215897',\n",
       " '/cardetail/mg-5-used-215631',\n",
       " '/cardetail/mg-5-used-215532',\n",
       " '/cardetail/mg-5-used-215531',\n",
       " '/cardetail/mg-5-used-215442',\n",
       " '/cardetail/mg-hs-used-215427',\n",
       " '/cardetail/mg-5-used-215250',\n",
       " '/cardetail/mg-rx8-used-215223',\n",
       " '/cardetail/mg-5-used-215093',\n",
       " '/cardetail/mg-5-used-215090']"
      ]
     },
     "execution_count": 69,
     "metadata": {},
     "output_type": "execute_result"
    }
   ],
   "source": [
    "driver = webdriver.Chrome()\n",
    "url = 'https://syarah.com'\n",
    "for ind, i in enumerate(clean_linkes):\n",
    "    driver.get(url + i)\n",
    "    soup = BeautifulSoup(driver.page_source, \"html.parser\")\n",
    "    if soup.find('h1', {'class' : 'LeftColumn-module__carName'}) == 'None':\n",
    "        clean_linkes.pop(ind)\n",
    "clean_linkes"
   ]
  },
  {
   "cell_type": "code",
   "execution_count": 85,
   "id": "51329c77-39ed-4479-b360-2d4068fb3991",
   "metadata": {},
   "outputs": [],
   "source": [
    "driver = webdriver.Chrome()\n",
    "driver.get('https://syarah.com/cardetail/jetour-x70-used-221761')\n",
    "soup = BeautifulSoup(driver.page_source, \"html.parser\")"
   ]
  },
  {
   "cell_type": "code",
   "execution_count": 87,
   "id": "d90a768f-87e5-487e-928d-774623125918",
   "metadata": {},
   "outputs": [],
   "source": [
    "soup.find('h1', {'class' : 'LeftColumn-module__carName'})"
   ]
  },
  {
   "cell_type": "code",
   "execution_count": null,
   "id": "bb46f992-0a20-4f89-90b4-07d3d129188f",
   "metadata": {},
   "outputs": [],
   "source": []
  }
 ],
 "metadata": {
  "kernelspec": {
   "display_name": "Python 3 (ipykernel)",
   "language": "python",
   "name": "python3"
  },
  "language_info": {
   "codemirror_mode": {
    "name": "ipython",
    "version": 3
   },
   "file_extension": ".py",
   "mimetype": "text/x-python",
   "name": "python",
   "nbconvert_exporter": "python",
   "pygments_lexer": "ipython3",
   "version": "3.11.7"
  }
 },
 "nbformat": 4,
 "nbformat_minor": 5
}
